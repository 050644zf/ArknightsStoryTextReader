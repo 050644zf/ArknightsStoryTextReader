{
 "cells": [
  {
   "cell_type": "code",
   "execution_count": 17,
   "metadata": {},
   "outputs": [],
   "source": [
    "import urllib.request as request\n",
    "import json\n",
    "import time"
   ]
  },
  {
   "cell_type": "code",
   "execution_count": 7,
   "metadata": {},
   "outputs": [],
   "source": [
    "with request.urlopen('https://api.github.com/repos/050644zf/ArknightsStoryJson/commits') as f:\n",
    "    content = f.read()"
   ]
  },
  {
   "cell_type": "code",
   "execution_count": 10,
   "metadata": {},
   "outputs": [],
   "source": [
    "content = json.loads(content)"
   ]
  },
  {
   "cell_type": "code",
   "execution_count": 20,
   "metadata": {},
   "outputs": [
    {
     "data": {
      "text/plain": [
       "{'sha': 'cd1b66f65c56aa88c9100f1fe36656d8f83b065c',\n",
       " 'node_id': 'C_kwDOGF9AvNoAKGNkMWI2NmY2NWM1NmFhODhjOTEwMGYxZmUzNjY1NmQ4ZjgzYjA2NWM',\n",
       " 'commit': {'author': {'name': 'Nightsky',\n",
       "   'email': '050644zf@outlook.com',\n",
       "   'date': '2022-01-15T01:19:25Z'},\n",
       "  'committer': {'name': 'Nightsky',\n",
       "   'email': '050644zf@outlook.com',\n",
       "   'date': '2022-01-15T01:19:25Z'},\n",
       "  'message': '20220115',\n",
       "  'tree': {'sha': '2e2103d2d76189e9291cd9370206cf7028e2ffb8',\n",
       "   'url': 'https://api.github.com/repos/050644zf/ArknightsStoryJson/git/trees/2e2103d2d76189e9291cd9370206cf7028e2ffb8'},\n",
       "  'url': 'https://api.github.com/repos/050644zf/ArknightsStoryJson/git/commits/cd1b66f65c56aa88c9100f1fe36656d8f83b065c',\n",
       "  'comment_count': 0,\n",
       "  'verification': {'verified': False,\n",
       "   'reason': 'unsigned',\n",
       "   'signature': None,\n",
       "   'payload': None}},\n",
       " 'url': 'https://api.github.com/repos/050644zf/ArknightsStoryJson/commits/cd1b66f65c56aa88c9100f1fe36656d8f83b065c',\n",
       " 'html_url': 'https://github.com/050644zf/ArknightsStoryJson/commit/cd1b66f65c56aa88c9100f1fe36656d8f83b065c',\n",
       " 'comments_url': 'https://api.github.com/repos/050644zf/ArknightsStoryJson/commits/cd1b66f65c56aa88c9100f1fe36656d8f83b065c/comments',\n",
       " 'author': {'login': '050644zf',\n",
       "  'id': 30611816,\n",
       "  'node_id': 'MDQ6VXNlcjMwNjExODE2',\n",
       "  'avatar_url': 'https://avatars.githubusercontent.com/u/30611816?v=4',\n",
       "  'gravatar_id': '',\n",
       "  'url': 'https://api.github.com/users/050644zf',\n",
       "  'html_url': 'https://github.com/050644zf',\n",
       "  'followers_url': 'https://api.github.com/users/050644zf/followers',\n",
       "  'following_url': 'https://api.github.com/users/050644zf/following{/other_user}',\n",
       "  'gists_url': 'https://api.github.com/users/050644zf/gists{/gist_id}',\n",
       "  'starred_url': 'https://api.github.com/users/050644zf/starred{/owner}{/repo}',\n",
       "  'subscriptions_url': 'https://api.github.com/users/050644zf/subscriptions',\n",
       "  'organizations_url': 'https://api.github.com/users/050644zf/orgs',\n",
       "  'repos_url': 'https://api.github.com/users/050644zf/repos',\n",
       "  'events_url': 'https://api.github.com/users/050644zf/events{/privacy}',\n",
       "  'received_events_url': 'https://api.github.com/users/050644zf/received_events',\n",
       "  'type': 'User',\n",
       "  'site_admin': False},\n",
       " 'committer': {'login': '050644zf',\n",
       "  'id': 30611816,\n",
       "  'node_id': 'MDQ6VXNlcjMwNjExODE2',\n",
       "  'avatar_url': 'https://avatars.githubusercontent.com/u/30611816?v=4',\n",
       "  'gravatar_id': '',\n",
       "  'url': 'https://api.github.com/users/050644zf',\n",
       "  'html_url': 'https://github.com/050644zf',\n",
       "  'followers_url': 'https://api.github.com/users/050644zf/followers',\n",
       "  'following_url': 'https://api.github.com/users/050644zf/following{/other_user}',\n",
       "  'gists_url': 'https://api.github.com/users/050644zf/gists{/gist_id}',\n",
       "  'starred_url': 'https://api.github.com/users/050644zf/starred{/owner}{/repo}',\n",
       "  'subscriptions_url': 'https://api.github.com/users/050644zf/subscriptions',\n",
       "  'organizations_url': 'https://api.github.com/users/050644zf/orgs',\n",
       "  'repos_url': 'https://api.github.com/users/050644zf/repos',\n",
       "  'events_url': 'https://api.github.com/users/050644zf/events{/privacy}',\n",
       "  'received_events_url': 'https://api.github.com/users/050644zf/received_events',\n",
       "  'type': 'User',\n",
       "  'site_admin': False},\n",
       " 'parents': [{'sha': '96b2f259fa88a764fc4aecebc6916967389b7a14',\n",
       "   'url': 'https://api.github.com/repos/050644zf/ArknightsStoryJson/commits/96b2f259fa88a764fc4aecebc6916967389b7a14',\n",
       "   'html_url': 'https://github.com/050644zf/ArknightsStoryJson/commit/96b2f259fa88a764fc4aecebc6916967389b7a14'}]}"
      ]
     },
     "execution_count": 20,
     "metadata": {},
     "output_type": "execute_result"
    }
   ],
   "source": [
    "content[0]"
   ]
  },
  {
   "cell_type": "code",
   "execution_count": 14,
   "metadata": {},
   "outputs": [],
   "source": [
    "t = [i[\"commit\"][\"author\"][\"date\"] for i in content]"
   ]
  },
  {
   "cell_type": "code",
   "execution_count": 15,
   "metadata": {},
   "outputs": [
    {
     "data": {
      "text/plain": [
       "['2022-01-15T01:19:25Z',\n",
       " '2022-01-15T00:53:11Z',\n",
       " '2022-01-10T08:17:26Z',\n",
       " '2022-01-04T17:19:36Z',\n",
       " '2021-12-29T02:42:57Z',\n",
       " '2021-12-21T02:16:48Z',\n",
       " '2021-12-12T07:06:13Z',\n",
       " '2021-12-07T08:58:01Z',\n",
       " '2021-11-01T02:18:29Z',\n",
       " '2021-10-25T15:13:24Z',\n",
       " '2021-10-19T14:52:32Z',\n",
       " '2021-10-15T08:06:02Z',\n",
       " '2021-10-02T14:42:31Z',\n",
       " '2021-10-02T13:04:23Z',\n",
       " '2021-10-02T12:51:18Z',\n",
       " '2021-09-22T14:40:39Z',\n",
       " '2021-09-22T14:22:21Z',\n",
       " '2021-09-21T16:33:35Z']"
      ]
     },
     "execution_count": 15,
     "metadata": {},
     "output_type": "execute_result"
    }
   ],
   "source": [
    "t"
   ]
  },
  {
   "cell_type": "code",
   "execution_count": 19,
   "metadata": {},
   "outputs": [
    {
     "data": {
      "text/plain": [
       "time.struct_time(tm_year=2022, tm_mon=1, tm_mday=15, tm_hour=1, tm_min=19, tm_sec=25, tm_wday=5, tm_yday=15, tm_isdst=-1)"
      ]
     },
     "execution_count": 19,
     "metadata": {},
     "output_type": "execute_result"
    }
   ],
   "source": [
    "time.strptime(t[0],\"%Y-%m-%dT%H:%M:%SZ\")"
   ]
  }
 ],
 "metadata": {
  "interpreter": {
   "hash": "73e03da126b73bfff3642ec5261d56fa25c444ea595de51041687efaa60dda41"
  },
  "kernelspec": {
   "display_name": "Python 3.8.5 64-bit ('base': conda)",
   "language": "python",
   "name": "python3"
  },
  "language_info": {
   "codemirror_mode": {
    "name": "ipython",
    "version": 3
   },
   "file_extension": ".py",
   "mimetype": "text/x-python",
   "name": "python",
   "nbconvert_exporter": "python",
   "pygments_lexer": "ipython3",
   "version": "3.8.5"
  },
  "orig_nbformat": 4
 },
 "nbformat": 4,
 "nbformat_minor": 2
}
